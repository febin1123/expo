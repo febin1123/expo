{
 "cells": [
  {
   "cell_type": "code",
   "execution_count": null,
   "metadata": {},
   "outputs": [],
   "source": [
    "\n",
    "def isPrime(num):\n",
    "    for i in range(2,num):\n",
    "        if(num%i==0):\n",
    "            return False\n",
    "        \n",
    "    return True \n",
    "d=isPrime(5)\n",
    "print(d)\n",
    "a=5\n",
    "a=\"Five\""
   ]
  },
  {
   "cell_type": "code",
   "execution_count": null,
   "metadata": {},
   "outputs": [],
   "source": [
    "def find_all_prime(start,end):\n",
    "    for i in range(start,end+1):\n",
    "        if (i>1 and isPrime(i)):\n",
    "            print(i)\n",
    "find_all_prime(2,99)            \n"
   ]
  },
  {
   "cell_type": "code",
   "execution_count": null,
   "metadata": {},
   "outputs": [],
   "source": [
    "def get_min(arr):\n",
    "    min_ele=arr[0]\n",
    "    idx=0\n",
    "    for i,ele in enumerate(arr):\n",
    "        if(ele<min_ele):\n",
    "            min_ele=ele\n",
    "            idx=i+1\n",
    "    return idx,min_ele        \n",
    "get_min([5,4,9,2,8,6,4])"
   ]
  },
  {
   "cell_type": "code",
   "execution_count": null,
   "metadata": {},
   "outputs": [],
   "source": [
    "import math\n",
    "print(math.sqrt(25))"
   ]
  },
  {
   "cell_type": "code",
   "execution_count": null,
   "metadata": {},
   "outputs": [],
   "source": [
    "def qsort(nums):\n",
    "    if (len(nums==0)or len(nums==1)):\n",
    "        return nums\n",
    "    pivot=nums[0]\n",
    "    left=[x for x in nums if x<pivot]\n",
    "    right=[x for x in nums if x>pivot]\n",
    "    "
   ]
  }
 ],
 "metadata": {
  "kernelspec": {
   "display_name": "Python 3",
   "language": "python",
   "name": "python3"
  },
  "language_info": {
   "codemirror_mode": {
    "name": "ipython",
    "version": 3
   },
   "file_extension": ".py",
   "mimetype": "text/x-python",
   "name": "python",
   "nbconvert_exporter": "python",
   "pygments_lexer": "ipython3",
   "version": "3.6.5"
  }
 },
 "nbformat": 4,
 "nbformat_minor": 2
}
